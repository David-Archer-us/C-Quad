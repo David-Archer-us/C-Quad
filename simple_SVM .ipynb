{
 "cells": [
  {
   "cell_type": "code",
   "execution_count": 1,
   "id": "e027ed7c",
   "metadata": {},
   "outputs": [],
   "source": [
    "import re\n",
    "import os\n",
    "import pandas as pd\n",
    "\n",
    "def readfile(path):\n",
    "    dirs = os.listdir(path)\n",
    "    column_names = ['label', 'text']\n",
    "    data_ = []\n",
    "    data = []\n",
    "    for d in dirs:\n",
    "        if os.path.isdir(os.path.join(path, d)):\n",
    "            path_d = path + d + '/'\n",
    "            files = os.listdir(path_d)\n",
    "            docs = ''\n",
    "            for file in files:\n",
    "                if os.path.isfile(os.path.join(path_d, file)):\n",
    "                    doc = ''\n",
    "                    f = open(os.path.join(path_d, file),'r')\n",
    "                    for line in f:\n",
    "                        if len(line)>0:\n",
    "                            line = re.sub('[^a-zA-Z]', ' ', line)\n",
    "                            words = []\n",
    "                            for word in line.split():\n",
    "                                if len(word)>1:\n",
    "                                    word = word.strip().lower()\n",
    "                                    words.append(word)\n",
    "                            line = ' '.join(words)\n",
    "                            doc = doc + \" \" + line\n",
    "                row = [d, doc.strip()]\n",
    "                docs = docs + \" \" + doc\n",
    "                data.append(row)\n",
    "            row_ = [d, docs.strip()]\n",
    "            data_.append(row_)\n",
    "    df_ = pd.DataFrame(data_, columns=column_names)\n",
    "    df = pd.DataFrame(data, columns=column_names)\n",
    "    return df_, df\n",
    "                            \n",
    "path_train = 'C50/C50train/'\n",
    "path_test = 'C50/C50test/'   \n",
    "df_train_, df_train = readfile(path_train)\n",
    "df_test_, df_test = readfile(path_test)\n",
    "         "
   ]
  },
  {
   "cell_type": "code",
   "execution_count": 2,
   "id": "6e094813",
   "metadata": {},
   "outputs": [
    {
     "data": {
      "text/plain": [
       "((50, 2), (2500, 2), (50, 2), (2500, 2))"
      ]
     },
     "execution_count": 2,
     "metadata": {},
     "output_type": "execute_result"
    }
   ],
   "source": [
    "df_train_.shape, df_train.shape, df_test_.shape, df_test.shape"
   ]
  },
  {
   "cell_type": "code",
   "execution_count": 3,
   "id": "4a97254c",
   "metadata": {},
   "outputs": [
    {
     "data": {
      "text/plain": [
       "(138599, 1912, 149858, 3593)"
      ]
     },
     "execution_count": 3,
     "metadata": {},
     "output_type": "execute_result"
    }
   ],
   "source": [
    "len(df_train_.iloc[0, 1]), len(df_train.iloc[0, 1]), len(df_test_.iloc[0, 1]), len(df_test.iloc[0,1])"
   ]
  },
  {
   "cell_type": "code",
   "execution_count": 4,
   "id": "41877cb9",
   "metadata": {},
   "outputs": [
    {
     "data": {
      "text/html": [
       "<div>\n",
       "<style scoped>\n",
       "    .dataframe tbody tr th:only-of-type {\n",
       "        vertical-align: middle;\n",
       "    }\n",
       "\n",
       "    .dataframe tbody tr th {\n",
       "        vertical-align: top;\n",
       "    }\n",
       "\n",
       "    .dataframe thead th {\n",
       "        text-align: right;\n",
       "    }\n",
       "</style>\n",
       "<table border=\"1\" class=\"dataframe\">\n",
       "  <thead>\n",
       "    <tr style=\"text-align: right;\">\n",
       "      <th></th>\n",
       "      <th>label</th>\n",
       "      <th>text</th>\n",
       "    </tr>\n",
       "  </thead>\n",
       "  <tbody>\n",
       "    <tr>\n",
       "      <th>0</th>\n",
       "      <td>AaronPressman</td>\n",
       "      <td>the internet may be overflowing with new techn...</td>\n",
       "    </tr>\n",
       "    <tr>\n",
       "      <th>1</th>\n",
       "      <td>AlanCrosby</td>\n",
       "      <td>it may be only the second qualifier on the lon...</td>\n",
       "    </tr>\n",
       "    <tr>\n",
       "      <th>2</th>\n",
       "      <td>AlexanderSmith</td>\n",
       "      <td>financial services and property group liberty ...</td>\n",
       "    </tr>\n",
       "  </tbody>\n",
       "</table>\n",
       "</div>"
      ],
      "text/plain": [
       "            label                                               text\n",
       "0   AaronPressman  the internet may be overflowing with new techn...\n",
       "1      AlanCrosby  it may be only the second qualifier on the lon...\n",
       "2  AlexanderSmith  financial services and property group liberty ..."
      ]
     },
     "execution_count": 4,
     "metadata": {},
     "output_type": "execute_result"
    }
   ],
   "source": [
    "df_train_[:3]"
   ]
  },
  {
   "cell_type": "code",
   "execution_count": 5,
   "id": "947baec8",
   "metadata": {},
   "outputs": [
    {
     "data": {
      "text/html": [
       "<div>\n",
       "<style scoped>\n",
       "    .dataframe tbody tr th:only-of-type {\n",
       "        vertical-align: middle;\n",
       "    }\n",
       "\n",
       "    .dataframe tbody tr th {\n",
       "        vertical-align: top;\n",
       "    }\n",
       "\n",
       "    .dataframe thead th {\n",
       "        text-align: right;\n",
       "    }\n",
       "</style>\n",
       "<table border=\"1\" class=\"dataframe\">\n",
       "  <thead>\n",
       "    <tr style=\"text-align: right;\">\n",
       "      <th></th>\n",
       "      <th>label</th>\n",
       "      <th>text</th>\n",
       "    </tr>\n",
       "  </thead>\n",
       "  <tbody>\n",
       "    <tr>\n",
       "      <th>0</th>\n",
       "      <td>AaronPressman</td>\n",
       "      <td>the internet may be overflowing with new techn...</td>\n",
       "    </tr>\n",
       "    <tr>\n",
       "      <th>1</th>\n",
       "      <td>AaronPressman</td>\n",
       "      <td>the postal service announced wednesday plan to...</td>\n",
       "    </tr>\n",
       "    <tr>\n",
       "      <th>2</th>\n",
       "      <td>AaronPressman</td>\n",
       "      <td>elementary school students with access to the ...</td>\n",
       "    </tr>\n",
       "  </tbody>\n",
       "</table>\n",
       "</div>"
      ],
      "text/plain": [
       "           label                                               text\n",
       "0  AaronPressman  the internet may be overflowing with new techn...\n",
       "1  AaronPressman  the postal service announced wednesday plan to...\n",
       "2  AaronPressman  elementary school students with access to the ..."
      ]
     },
     "execution_count": 5,
     "metadata": {},
     "output_type": "execute_result"
    }
   ],
   "source": [
    "df_train[:3]"
   ]
  },
  {
   "cell_type": "code",
   "execution_count": 6,
   "id": "372265e0",
   "metadata": {},
   "outputs": [
    {
     "data": {
      "text/html": [
       "<div>\n",
       "<style scoped>\n",
       "    .dataframe tbody tr th:only-of-type {\n",
       "        vertical-align: middle;\n",
       "    }\n",
       "\n",
       "    .dataframe tbody tr th {\n",
       "        vertical-align: top;\n",
       "    }\n",
       "\n",
       "    .dataframe thead th {\n",
       "        text-align: right;\n",
       "    }\n",
       "</style>\n",
       "<table border=\"1\" class=\"dataframe\">\n",
       "  <thead>\n",
       "    <tr style=\"text-align: right;\">\n",
       "      <th></th>\n",
       "      <th>label</th>\n",
       "      <th>text</th>\n",
       "    </tr>\n",
       "  </thead>\n",
       "  <tbody>\n",
       "    <tr>\n",
       "      <th>0</th>\n",
       "      <td>AaronPressman</td>\n",
       "      <td>senators on tuesday sharply criticized new sec...</td>\n",
       "    </tr>\n",
       "    <tr>\n",
       "      <th>1</th>\n",
       "      <td>AlanCrosby</td>\n",
       "      <td>markets across eastern europe remained mired i...</td>\n",
       "    </tr>\n",
       "    <tr>\n",
       "      <th>2</th>\n",
       "      <td>AlexanderSmith</td>\n",
       "      <td>britain commercial property market may be impr...</td>\n",
       "    </tr>\n",
       "  </tbody>\n",
       "</table>\n",
       "</div>"
      ],
      "text/plain": [
       "            label                                               text\n",
       "0   AaronPressman  senators on tuesday sharply criticized new sec...\n",
       "1      AlanCrosby  markets across eastern europe remained mired i...\n",
       "2  AlexanderSmith  britain commercial property market may be impr..."
      ]
     },
     "execution_count": 6,
     "metadata": {},
     "output_type": "execute_result"
    }
   ],
   "source": [
    "df_test_[:3]"
   ]
  },
  {
   "cell_type": "code",
   "execution_count": 7,
   "id": "3afbe267",
   "metadata": {},
   "outputs": [
    {
     "data": {
      "text/html": [
       "<div>\n",
       "<style scoped>\n",
       "    .dataframe tbody tr th:only-of-type {\n",
       "        vertical-align: middle;\n",
       "    }\n",
       "\n",
       "    .dataframe tbody tr th {\n",
       "        vertical-align: top;\n",
       "    }\n",
       "\n",
       "    .dataframe thead th {\n",
       "        text-align: right;\n",
       "    }\n",
       "</style>\n",
       "<table border=\"1\" class=\"dataframe\">\n",
       "  <thead>\n",
       "    <tr style=\"text-align: right;\">\n",
       "      <th></th>\n",
       "      <th>label</th>\n",
       "      <th>text</th>\n",
       "    </tr>\n",
       "  </thead>\n",
       "  <tbody>\n",
       "    <tr>\n",
       "      <th>0</th>\n",
       "      <td>AaronPressman</td>\n",
       "      <td>senators on tuesday sharply criticized new sec...</td>\n",
       "    </tr>\n",
       "    <tr>\n",
       "      <th>1</th>\n",
       "      <td>AaronPressman</td>\n",
       "      <td>two members of congress criticised the federal...</td>\n",
       "    </tr>\n",
       "    <tr>\n",
       "      <th>2</th>\n",
       "      <td>AaronPressman</td>\n",
       "      <td>commuters stuck in traffic on the leesburg pik...</td>\n",
       "    </tr>\n",
       "  </tbody>\n",
       "</table>\n",
       "</div>"
      ],
      "text/plain": [
       "           label                                               text\n",
       "0  AaronPressman  senators on tuesday sharply criticized new sec...\n",
       "1  AaronPressman  two members of congress criticised the federal...\n",
       "2  AaronPressman  commuters stuck in traffic on the leesburg pik..."
      ]
     },
     "execution_count": 7,
     "metadata": {},
     "output_type": "execute_result"
    }
   ],
   "source": [
    "df_test[:3]"
   ]
  },
  {
   "cell_type": "code",
   "execution_count": 8,
   "id": "b4dbc176",
   "metadata": {},
   "outputs": [
    {
     "name": "stdout",
     "output_type": "stream",
     "text": [
      "['AaronPressman', 'AlanCrosby', 'AlexanderSmith', 'BenjaminKangLim', 'BernardHickey', 'BradDorfman', 'DarrenSchuettler', 'DavidLawder', 'EdnaFernandes', 'EricAuchard', 'FumikoFujisaki', 'GrahamEarnshaw', 'HeatherScoffield', 'JaneMacartney', 'JanLopatka', 'JimGilchrist', 'JoeOrtiz', 'JohnMastrini', 'JonathanBirt', 'JoWinterbottom', 'KarlPenhaul', 'KeithWeir', 'KevinDrawbaugh', 'KevinMorrison', 'KirstinRidley', 'KouroshKarimkhany', 'LydiaZajc', \"LynneO'Donnell\", 'LynnleyBrowning', 'MarcelMichelson', 'MarkBendeich', 'MartinWolk', 'MatthewBunce', 'MichaelConnor', 'MureDickie', 'NickLouth', 'PatriciaCommins', 'PeterHumphrey', 'PierreTran', 'RobinSidel', 'RogerFillion', 'SamuelPerry', 'SarahDavison', 'ScottHillis', 'SimonCowell', 'TanEeLyn', 'TheresePoletti', 'TimFarrand', 'ToddNissen', 'WilliamKazer']\n"
     ]
    }
   ],
   "source": [
    "labels = list(df_train_['label'])\n",
    "print(labels)"
   ]
  },
  {
   "cell_type": "code",
   "execution_count": null,
   "id": "3e5841bb",
   "metadata": {},
   "outputs": [],
   "source": []
  },
  {
   "cell_type": "code",
   "execution_count": 9,
   "id": "4d6c8d0f",
   "metadata": {},
   "outputs": [],
   "source": [
    "X_train = df_train['text']\n",
    "y_train = df_train['label']\n",
    "X_test = df_test['text']\n",
    "y_test = df_test['label']\n"
   ]
  },
  {
   "cell_type": "code",
   "execution_count": null,
   "id": "2c766b35",
   "metadata": {},
   "outputs": [],
   "source": []
  },
  {
   "cell_type": "code",
   "execution_count": 10,
   "id": "17f32304",
   "metadata": {},
   "outputs": [],
   "source": [
    "# way 1, simple SVM"
   ]
  },
  {
   "cell_type": "code",
   "execution_count": 11,
   "id": "6e0e7180",
   "metadata": {},
   "outputs": [
    {
     "name": "stdout",
     "output_type": "stream",
     "text": [
      "Accuracy: 0.7672\n"
     ]
    }
   ],
   "source": [
    "from sklearn.feature_extraction.text import CountVectorizer\n",
    "from sklearn.metrics import accuracy_score\n",
    "from sklearn.metrics import normalized_mutual_info_score\n",
    "from sklearn.metrics import confusion_matrix\n",
    "from sklearn.svm import LinearSVC\n",
    "\n",
    "vectorizer = CountVectorizer(binary=True, ngram_range=(1, 2), min_df=13)\n",
    "vectorizer.fit(X_train)\n",
    "X_train_vec = vectorizer.transform(X_train)\n",
    "X_test_vec = vectorizer.transform(X_test)\n",
    "\n",
    "\n",
    "svm = LinearSVC(max_iter=10000)\n",
    "prob = svm.fit(X_train_vec, y_train)\n",
    "y_pred_svm = svm.predict(X_test_vec)\n",
    "\n",
    "\n",
    "print(\"Accuracy:\", accuracy_score(y_test, y_pred_svm))"
   ]
  },
  {
   "cell_type": "code",
   "execution_count": 12,
   "id": "de9872c4",
   "metadata": {},
   "outputs": [],
   "source": [
    "# Accuracy: 0.7672"
   ]
  },
  {
   "cell_type": "code",
   "execution_count": null,
   "id": "136d4231",
   "metadata": {},
   "outputs": [],
   "source": []
  },
  {
   "cell_type": "code",
   "execution_count": 13,
   "id": "51046e52",
   "metadata": {},
   "outputs": [
    {
     "name": "stdout",
     "output_type": "stream",
     "text": [
      "    10  11  12  13  14  15  16  17  18  19  20  21  22  23  24  25\n",
      "10  50   0   0   0   0   0   0   0   0   0   0   0   0   0   0   0\n",
      "11   0  47   0   0   0   0   0   0   0   0   0   0   0   0   0   0\n",
      "12   0   0  23   1   2   0   0   0   0   0   4   1   0   0   0   0\n",
      "13   0   0   0  27   0   0   0   0  17   0   0   0   0   0   0   0\n",
      "14   0   2   0   0  19   0   0   0   0   0   0   0   0   0   0   0\n",
      "15   0   0   0   0   0  50   0   0   0   0   0   0   0   0   0   0\n",
      "16   0   0   0   0   0   0  42   0   0   3   0   1   0   0   1   0\n",
      "17   0   0   0   0   0   0   0  35   0   0   0   0   0   0   0   0\n",
      "18   0   0   0  12   0   0   0   0  35   0   0   0   0   0   0   0\n",
      "19   0   0   0   0   0   0   1   0   0  44   0   0   0   0   0   0\n",
      "20   0   0   0   0   0   0   0   0   0   0  50   0   0   0   0   0\n",
      "21   0   0   0   0   0   0   0   0   0   0   0  48   0   0   0   0\n",
      "22   0   0   0   0   0   0   0   0   0   0   0   0  35   0   0   0\n",
      "23   0   0   0   0   0   0   0   0   0   0   0   0   0  47   0   0\n",
      "24   0   0   0   0   0   0   0   0   0   0   0   6   0   0  39   0\n",
      "25   0   0   0   0   0   0   0   0   0   0   0   0   0   0   0  49\n"
     ]
    }
   ],
   "source": [
    "print(pd.DataFrame(confusion_matrix(y_test, y_pred_svm)).loc[10:25, 10:25])"
   ]
  },
  {
   "cell_type": "code",
   "execution_count": 14,
   "id": "a1238de8",
   "metadata": {},
   "outputs": [
    {
     "name": "stdout",
     "output_type": "stream",
     "text": [
      "normalized_mutual_info_score between predict and test: 0.8103110313377363\n"
     ]
    }
   ],
   "source": [
    "print(\"normalized_mutual_info_score between predict and test:\", normalized_mutual_info_score(y_test, y_pred_svm))\n"
   ]
  },
  {
   "cell_type": "code",
   "execution_count": null,
   "id": "d363a379",
   "metadata": {},
   "outputs": [],
   "source": []
  }
 ],
 "metadata": {
  "kernelspec": {
   "display_name": "Python 3 (ipykernel)",
   "language": "python",
   "name": "python3"
  },
  "language_info": {
   "codemirror_mode": {
    "name": "ipython",
    "version": 3
   },
   "file_extension": ".py",
   "mimetype": "text/x-python",
   "name": "python",
   "nbconvert_exporter": "python",
   "pygments_lexer": "ipython3",
   "version": "3.9.0"
  }
 },
 "nbformat": 4,
 "nbformat_minor": 5
}
