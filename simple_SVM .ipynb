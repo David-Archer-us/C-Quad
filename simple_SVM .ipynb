{
 "cells": [
  {
   "cell_type": "code",
   "execution_count": 1,
   "id": "e027ed7c",
   "metadata": {},
   "outputs": [],
   "source": [
    "import re\n",
    "import os\n",
    "import pandas as pd\n",
    "\n",
    "def readfile(path):\n",
    "    dirs = os.listdir(path)\n",
    "    column_names = ['label', 'text']\n",
    "    data_ = []\n",
    "    data = []\n",
    "    for d in dirs:\n",
    "        if os.path.isdir(os.path.join(path, d)):\n",
    "            path_d = path + d + '/'\n",
    "            files = os.listdir(path_d)\n",
    "            docs = ''\n",
    "            for file in files:\n",
    "                if os.path.isfile(os.path.join(path_d, file)):\n",
    "                    doc = ''\n",
    "                    f = open(os.path.join(path_d, file),'r')\n",
    "                    for line in f:\n",
    "                        if len(line)>0:\n",
    "                            line = re.sub('[^a-zA-Z]', ' ', line)\n",
    "                            words = []\n",
    "                            for word in line.split():\n",
    "                                if len(word)>1:\n",
    "                                    word = word.strip().lower()\n",
    "                                    words.append(word)\n",
    "                            line = ' '.join(words)\n",
    "                            doc = doc + \" \" + line\n",
    "                row = [d, doc.strip()]\n",
    "                docs = docs + \" \" + doc\n",
    "                data.append(row)\n",
    "            row_ = [d, docs.strip()]\n",
    "            data_.append(row_)\n",
    "    df_ = pd.DataFrame(data_, columns=column_names)\n",
    "    df = pd.DataFrame(data, columns=column_names)\n",
    "    return df_, df\n",
    "                            \n",
    "path_train = 'C50/C50train/'\n",
    "path_test = 'C50/C50test/'   \n",
    "df_train_, df_train = readfile(path_train)\n",
    "df_test_, df_test = readfile(path_test)\n",
    "         "
   ]
  },
  {
   "cell_type": "code",
   "execution_count": 2,
   "id": "6e094813",
   "metadata": {},
   "outputs": [
    {
     "data": {
      "text/plain": [
       "((50, 2), (2500, 2), (50, 2), (2500, 2))"
      ]
     },
     "execution_count": 2,
     "metadata": {},
     "output_type": "execute_result"
    }
   ],
   "source": [
    "df_train_.shape, df_train.shape, df_test_.shape, df_test.shape"
   ]
  },
  {
   "cell_type": "code",
   "execution_count": 3,
   "id": "4a97254c",
   "metadata": {},
   "outputs": [
    {
     "data": {
      "text/plain": [
       "(141649, 3948, 144347, 2399)"
      ]
     },
     "execution_count": 3,
     "metadata": {},
     "output_type": "execute_result"
    }
   ],
   "source": [
    "len(df_train_.iloc[0, 1]), len(df_train.iloc[0, 1]), len(df_test_.iloc[0, 1]), len(df_test.iloc[0,1])"
   ]
  },
  {
   "cell_type": "code",
   "execution_count": 4,
   "id": "41877cb9",
   "metadata": {},
   "outputs": [
    {
     "data": {
      "text/html": [
       "<div>\n",
       "<style scoped>\n",
       "    .dataframe tbody tr th:only-of-type {\n",
       "        vertical-align: middle;\n",
       "    }\n",
       "\n",
       "    .dataframe tbody tr th {\n",
       "        vertical-align: top;\n",
       "    }\n",
       "\n",
       "    .dataframe thead th {\n",
       "        text-align: right;\n",
       "    }\n",
       "</style>\n",
       "<table border=\"1\" class=\"dataframe\">\n",
       "  <thead>\n",
       "    <tr style=\"text-align: right;\">\n",
       "      <th></th>\n",
       "      <th>label</th>\n",
       "      <th>text</th>\n",
       "    </tr>\n",
       "  </thead>\n",
       "  <tbody>\n",
       "    <tr>\n",
       "      <th>0</th>\n",
       "      <td>RobinSidel</td>\n",
       "      <td>drugstore giant revco inc said monday it agree...</td>\n",
       "    </tr>\n",
       "    <tr>\n",
       "      <th>1</th>\n",
       "      <td>LynnleyBrowning</td>\n",
       "      <td>big diamond deal between russia and de beers h...</td>\n",
       "    </tr>\n",
       "    <tr>\n",
       "      <th>2</th>\n",
       "      <td>KouroshKarimkhany</td>\n",
       "      <td>apple computer inc friday agreed to acquire ne...</td>\n",
       "    </tr>\n",
       "  </tbody>\n",
       "</table>\n",
       "</div>"
      ],
      "text/plain": [
       "               label                                               text\n",
       "0         RobinSidel  drugstore giant revco inc said monday it agree...\n",
       "1    LynnleyBrowning  big diamond deal between russia and de beers h...\n",
       "2  KouroshKarimkhany  apple computer inc friday agreed to acquire ne..."
      ]
     },
     "execution_count": 4,
     "metadata": {},
     "output_type": "execute_result"
    }
   ],
   "source": [
    "df_train_[:3]"
   ]
  },
  {
   "cell_type": "code",
   "execution_count": 5,
   "id": "947baec8",
   "metadata": {},
   "outputs": [
    {
     "data": {
      "text/html": [
       "<div>\n",
       "<style scoped>\n",
       "    .dataframe tbody tr th:only-of-type {\n",
       "        vertical-align: middle;\n",
       "    }\n",
       "\n",
       "    .dataframe tbody tr th {\n",
       "        vertical-align: top;\n",
       "    }\n",
       "\n",
       "    .dataframe thead th {\n",
       "        text-align: right;\n",
       "    }\n",
       "</style>\n",
       "<table border=\"1\" class=\"dataframe\">\n",
       "  <thead>\n",
       "    <tr style=\"text-align: right;\">\n",
       "      <th></th>\n",
       "      <th>label</th>\n",
       "      <th>text</th>\n",
       "    </tr>\n",
       "  </thead>\n",
       "  <tbody>\n",
       "    <tr>\n",
       "      <th>0</th>\n",
       "      <td>RobinSidel</td>\n",
       "      <td>drugstore giant revco inc said monday it agree...</td>\n",
       "    </tr>\n",
       "    <tr>\n",
       "      <th>1</th>\n",
       "      <td>RobinSidel</td>\n",
       "      <td>mattel inc seeking to expand in the market for...</td>\n",
       "    </tr>\n",
       "    <tr>\n",
       "      <th>2</th>\n",
       "      <td>RobinSidel</td>\n",
       "      <td>financial agreement between barney inc and hon...</td>\n",
       "    </tr>\n",
       "  </tbody>\n",
       "</table>\n",
       "</div>"
      ],
      "text/plain": [
       "        label                                               text\n",
       "0  RobinSidel  drugstore giant revco inc said monday it agree...\n",
       "1  RobinSidel  mattel inc seeking to expand in the market for...\n",
       "2  RobinSidel  financial agreement between barney inc and hon..."
      ]
     },
     "execution_count": 5,
     "metadata": {},
     "output_type": "execute_result"
    }
   ],
   "source": [
    "df_train[:3]"
   ]
  },
  {
   "cell_type": "code",
   "execution_count": 6,
   "id": "372265e0",
   "metadata": {},
   "outputs": [
    {
     "data": {
      "text/html": [
       "<div>\n",
       "<style scoped>\n",
       "    .dataframe tbody tr th:only-of-type {\n",
       "        vertical-align: middle;\n",
       "    }\n",
       "\n",
       "    .dataframe tbody tr th {\n",
       "        vertical-align: top;\n",
       "    }\n",
       "\n",
       "    .dataframe thead th {\n",
       "        text-align: right;\n",
       "    }\n",
       "</style>\n",
       "<table border=\"1\" class=\"dataframe\">\n",
       "  <thead>\n",
       "    <tr style=\"text-align: right;\">\n",
       "      <th></th>\n",
       "      <th>label</th>\n",
       "      <th>text</th>\n",
       "    </tr>\n",
       "  </thead>\n",
       "  <tbody>\n",
       "    <tr>\n",
       "      <th>0</th>\n",
       "      <td>RobinSidel</td>\n",
       "      <td>itt corp met with financial advisers on thursd...</td>\n",
       "    </tr>\n",
       "    <tr>\n",
       "      <th>1</th>\n",
       "      <td>LynnleyBrowning</td>\n",
       "      <td>russia norilsk nickel an arctic industrial met...</td>\n",
       "    </tr>\n",
       "    <tr>\n",
       "      <th>2</th>\n",
       "      <td>KouroshKarimkhany</td>\n",
       "      <td>apple computer inc beleaguered by rivals offer...</td>\n",
       "    </tr>\n",
       "  </tbody>\n",
       "</table>\n",
       "</div>"
      ],
      "text/plain": [
       "               label                                               text\n",
       "0         RobinSidel  itt corp met with financial advisers on thursd...\n",
       "1    LynnleyBrowning  russia norilsk nickel an arctic industrial met...\n",
       "2  KouroshKarimkhany  apple computer inc beleaguered by rivals offer..."
      ]
     },
     "execution_count": 6,
     "metadata": {},
     "output_type": "execute_result"
    }
   ],
   "source": [
    "df_test_[:3]"
   ]
  },
  {
   "cell_type": "code",
   "execution_count": 7,
   "id": "3afbe267",
   "metadata": {},
   "outputs": [
    {
     "data": {
      "text/html": [
       "<div>\n",
       "<style scoped>\n",
       "    .dataframe tbody tr th:only-of-type {\n",
       "        vertical-align: middle;\n",
       "    }\n",
       "\n",
       "    .dataframe tbody tr th {\n",
       "        vertical-align: top;\n",
       "    }\n",
       "\n",
       "    .dataframe thead th {\n",
       "        text-align: right;\n",
       "    }\n",
       "</style>\n",
       "<table border=\"1\" class=\"dataframe\">\n",
       "  <thead>\n",
       "    <tr style=\"text-align: right;\">\n",
       "      <th></th>\n",
       "      <th>label</th>\n",
       "      <th>text</th>\n",
       "    </tr>\n",
       "  </thead>\n",
       "  <tbody>\n",
       "    <tr>\n",
       "      <th>0</th>\n",
       "      <td>RobinSidel</td>\n",
       "      <td>itt corp met with financial advisers on thursd...</td>\n",
       "    </tr>\n",
       "    <tr>\n",
       "      <th>1</th>\n",
       "      <td>RobinSidel</td>\n",
       "      <td>norfolk southern corp on monday launched new e...</td>\n",
       "    </tr>\n",
       "    <tr>\n",
       "      <th>2</th>\n",
       "      <td>RobinSidel</td>\n",
       "      <td>long troubled solid waste firm mid american wa...</td>\n",
       "    </tr>\n",
       "  </tbody>\n",
       "</table>\n",
       "</div>"
      ],
      "text/plain": [
       "        label                                               text\n",
       "0  RobinSidel  itt corp met with financial advisers on thursd...\n",
       "1  RobinSidel  norfolk southern corp on monday launched new e...\n",
       "2  RobinSidel  long troubled solid waste firm mid american wa..."
      ]
     },
     "execution_count": 7,
     "metadata": {},
     "output_type": "execute_result"
    }
   ],
   "source": [
    "df_test[:3]"
   ]
  },
  {
   "cell_type": "code",
   "execution_count": 8,
   "id": "b4dbc176",
   "metadata": {},
   "outputs": [
    {
     "name": "stdout",
     "output_type": "stream",
     "text": [
      "['RobinSidel', 'LynnleyBrowning', 'KouroshKarimkhany', 'MichaelConnor', 'JoeOrtiz', 'EricAuchard', 'AaronPressman', 'SimonCowell', \"LynneO'Donnell\", 'EdnaFernandes', 'KevinMorrison', 'SamuelPerry', 'PatriciaCommins', 'JohnMastrini', 'JanLopatka', 'KevinDrawbaugh', 'KarlPenhaul', 'MartinWolk', 'ScottHillis', 'DavidLawder', 'FumikoFujisaki', 'MarcelMichelson', 'NickLouth', 'DarrenSchuettler', 'WilliamKazer', 'TanEeLyn', 'PierreTran', 'HeatherScoffield', 'MureDickie', 'RogerFillion', 'JimGilchrist', 'BradDorfman', 'AlanCrosby', 'JonathanBirt', 'BenjaminKangLim', 'TheresePoletti', 'KeithWeir', 'JoWinterbottom', 'MarkBendeich', 'JaneMacartney', 'MatthewBunce', 'ToddNissen', 'PeterHumphrey', 'TimFarrand', 'SarahDavison', 'GrahamEarnshaw', 'BernardHickey', 'KirstinRidley', 'AlexanderSmith', 'LydiaZajc']\n"
     ]
    }
   ],
   "source": [
    "labels = list(df_train_['label'])\n",
    "print(labels)"
   ]
  },
  {
   "cell_type": "code",
   "execution_count": null,
   "id": "3e5841bb",
   "metadata": {},
   "outputs": [],
   "source": []
  },
  {
   "cell_type": "code",
   "execution_count": 9,
   "id": "4d6c8d0f",
   "metadata": {},
   "outputs": [],
   "source": [
    "X_train = df_train['text']\n",
    "y_train = df_train['label']\n",
    "X_test = df_test['text']\n",
    "y_test = df_test['label']\n"
   ]
  },
  {
   "cell_type": "code",
   "execution_count": null,
   "id": "2c766b35",
   "metadata": {},
   "outputs": [],
   "source": []
  },
  {
   "cell_type": "code",
   "execution_count": 10,
   "id": "17f32304",
   "metadata": {},
   "outputs": [],
   "source": [
    "# way 1, simple SVM"
   ]
  },
  {
   "cell_type": "code",
   "execution_count": 11,
   "id": "284fd59a",
   "metadata": {},
   "outputs": [
    {
     "name": "stdout",
     "output_type": "stream",
     "text": [
      "Accuracy: 0.6976\n"
     ]
    }
   ],
   "source": [
    "from sklearn.feature_extraction.text import CountVectorizer\n",
    "from sklearn import svm\n",
    "from sklearn.metrics import accuracy_score\n",
    "from sklearn.metrics import normalized_mutual_info_score\n",
    "\n",
    "vectorizer = CountVectorizer(binary=True, stop_words='english')\n",
    "vectorizer.fit(X_train)\n",
    "X_train_vec = vectorizer.transform(X_train)\n",
    "X_test_vec = vectorizer.transform(X_test)\n",
    "\n",
    "\n",
    "svm = svm.SVC(kernel = 'linear', probability=True)\n",
    "prob = svm.fit(X_train_vec, y_train).predict_proba(X_test_vec)\n",
    "y_pred_svm = svm.predict(X_test_vec)\n",
    "\n",
    "\n",
    "print(\"Accuracy:\", accuracy_score(y_test, y_pred_svm))"
   ]
  },
  {
   "cell_type": "code",
   "execution_count": 12,
   "id": "596b5964",
   "metadata": {},
   "outputs": [],
   "source": [
    "# prediction Accuracy: 0.6976"
   ]
  },
  {
   "cell_type": "code",
   "execution_count": 13,
   "id": "0cb3c0ae",
   "metadata": {},
   "outputs": [
    {
     "name": "stdout",
     "output_type": "stream",
     "text": [
      "normalized_mutual_info_score between predict and test: 0.7579813244435937\n"
     ]
    }
   ],
   "source": [
    "\n",
    "print(\"normalized_mutual_info_score between predict and test:\", normalized_mutual_info_score(y_test, y_pred_svm))\n"
   ]
  },
  {
   "cell_type": "code",
   "execution_count": 14,
   "id": "c3691bf6",
   "metadata": {},
   "outputs": [],
   "source": [
    "# normalized_mutual_info_score between prediction and test data: 0.7579813244435937"
   ]
  },
  {
   "cell_type": "code",
   "execution_count": 15,
   "id": "c8216e28",
   "metadata": {},
   "outputs": [
    {
     "name": "stdout",
     "output_type": "stream",
     "text": [
      "normalized_mutual_info_score between predict and train: 1.0\n"
     ]
    }
   ],
   "source": [
    "y_pred_svm_for_train = svm.predict(X_train_vec)\n",
    "print(\"normalized_mutual_info_score between predict and train:\", normalized_mutual_info_score(y_train, y_pred_svm_for_train))\n"
   ]
  },
  {
   "cell_type": "code",
   "execution_count": 16,
   "id": "215d4781",
   "metadata": {},
   "outputs": [],
   "source": [
    "# normalized_mutual_info_score between prediction and training data: 1.0"
   ]
  },
  {
   "cell_type": "code",
   "execution_count": null,
   "id": "136d4231",
   "metadata": {},
   "outputs": [],
   "source": []
  }
 ],
 "metadata": {
  "kernelspec": {
   "display_name": "Python 3 (ipykernel)",
   "language": "python",
   "name": "python3"
  },
  "language_info": {
   "codemirror_mode": {
    "name": "ipython",
    "version": 3
   },
   "file_extension": ".py",
   "mimetype": "text/x-python",
   "name": "python",
   "nbconvert_exporter": "python",
   "pygments_lexer": "ipython3",
   "version": "3.8.8"
  }
 },
 "nbformat": 4,
 "nbformat_minor": 5
}
